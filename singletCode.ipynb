{
 "cells": [
  {
   "cell_type": "markdown",
   "metadata": {},
   "source": [
    "## Running singletCode on data (output from starcode)"
   ]
  },
  {
   "cell_type": "markdown",
   "metadata": {},
   "source": [
    "First, installing singletCode package if it is not already installed"
   ]
  },
  {
   "cell_type": "code",
   "execution_count": 1,
   "metadata": {},
   "outputs": [
    {
     "name": "stdout",
     "output_type": "stream",
     "text": [
      "Collecting singletCode\n",
      "  Downloading singletCode-1.1.0-py3-none-any.whl (10 kB)\n",
      "Collecting matplotlib>=3.0.2\n",
      "  Downloading matplotlib-3.9.0-cp39-cp39-manylinux_2_17_x86_64.manylinux2014_x86_64.whl (8.3 MB)\n",
      "\u001b[2K     \u001b[90m━━━━━━━━━━━━━━━━━━━━━━━━━━━━━━━━━━━━━━━━\u001b[0m \u001b[32m8.3/8.3 MB\u001b[0m \u001b[31m18.1 MB/s\u001b[0m eta \u001b[36m0:00:00\u001b[0m00:01\u001b[0m00:01\u001b[0m\n",
      "\u001b[?25hRequirement already satisfied: pandas>=0.23.4 in /home/mzo5929/.local/lib/python3.9/site-packages (from singletCode) (2.1.4)\n",
      "Collecting tqdm>=4.28.1\n",
      "  Downloading tqdm-4.66.4-py3-none-any.whl (78 kB)\n",
      "\u001b[2K     \u001b[90m━━━━━━━━━━━━━━━━━━━━━━━━━━━━━━━━━━━━━━━\u001b[0m \u001b[32m78.3/78.3 kB\u001b[0m \u001b[31m183.4 kB/s\u001b[0m eta \u001b[36m0:00:00\u001b[0ma \u001b[36m0:00:01\u001b[0m\n",
      "\u001b[?25hRequirement already satisfied: scipy>=1.1.0 in /home/mzo5929/.local/lib/python3.9/site-packages (from singletCode) (1.11.4)\n",
      "Collecting pillow>=8\n",
      "  Downloading pillow-10.3.0-cp39-cp39-manylinux_2_17_x86_64.manylinux2014_x86_64.whl (4.4 MB)\n",
      "\u001b[2K     \u001b[90m━━━━━━━━━━━━━━━━━━━━━━━━━━━━━━━━━━━━━━━━\u001b[0m \u001b[32m4.4/4.4 MB\u001b[0m \u001b[31m12.7 MB/s\u001b[0m eta \u001b[36m0:00:00\u001b[0m00:01\u001b[0m00:01\u001b[0m\n",
      "\u001b[?25hRequirement already satisfied: packaging>=20.0 in /home/mzo5929/.conda/envs/commandLine/lib/python3.9/site-packages (from matplotlib>=3.0.2->singletCode) (24.1)\n",
      "Collecting pyparsing>=2.3.1\n",
      "  Downloading pyparsing-3.1.2-py3-none-any.whl (103 kB)\n",
      "\u001b[2K     \u001b[90m━━━━━━━━━━━━━━━━━━━━━━━━━━━━━━━━━━━━━\u001b[0m \u001b[32m103.2/103.2 kB\u001b[0m \u001b[31m310.0 kB/s\u001b[0m eta \u001b[36m0:00:00\u001b[0m00:01\u001b[0m\n",
      "\u001b[?25hCollecting importlib-resources>=3.2.0\n",
      "  Downloading importlib_resources-6.4.0-py3-none-any.whl (38 kB)\n",
      "Requirement already satisfied: numpy>=1.23 in /home/mzo5929/.local/lib/python3.9/site-packages (from matplotlib>=3.0.2->singletCode) (1.26.0)\n",
      "Collecting kiwisolver>=1.3.1\n",
      "  Downloading kiwisolver-1.4.5-cp39-cp39-manylinux_2_12_x86_64.manylinux2010_x86_64.whl (1.6 MB)\n",
      "\u001b[2K     \u001b[90m━━━━━━━━━━━━━━━━━━━━━━━━━━━━━━━━━━━━━━━━\u001b[0m \u001b[32m1.6/1.6 MB\u001b[0m \u001b[31m14.1 MB/s\u001b[0m eta \u001b[36m0:00:00\u001b[0m:00:01\u001b[0m\n",
      "\u001b[?25hCollecting fonttools>=4.22.0\n",
      "  Downloading fonttools-4.53.0-cp39-cp39-manylinux_2_17_x86_64.manylinux2014_x86_64.whl (4.6 MB)\n",
      "\u001b[2K     \u001b[90m━━━━━━━━━━━━━━━━━━━━━━━━━━━━━━━━━━━━━━━━\u001b[0m \u001b[32m4.6/4.6 MB\u001b[0m \u001b[31m12.5 MB/s\u001b[0m eta \u001b[36m0:00:00\u001b[0m00:01\u001b[0m00:01\u001b[0m\n",
      "\u001b[?25hCollecting contourpy>=1.0.1\n",
      "  Downloading contourpy-1.2.1-cp39-cp39-manylinux_2_17_x86_64.manylinux2014_x86_64.whl (304 kB)\n",
      "\u001b[2K     \u001b[90m━━━━━━━━━━━━━━━━━━━━━━━━━━━━━━━━━━━━━━━\u001b[0m \u001b[32m305.0/305.0 kB\u001b[0m \u001b[31m1.4 MB/s\u001b[0m eta \u001b[36m0:00:00\u001b[0m00:01\u001b[0m\n",
      "\u001b[?25hRequirement already satisfied: python-dateutil>=2.7 in /home/mzo5929/.conda/envs/commandLine/lib/python3.9/site-packages (from matplotlib>=3.0.2->singletCode) (2.9.0.post0)\n",
      "Collecting cycler>=0.10\n",
      "  Downloading cycler-0.12.1-py3-none-any.whl (8.3 kB)\n",
      "Requirement already satisfied: pytz>=2020.1 in /home/mzo5929/.conda/envs/commandLine/lib/python3.9/site-packages (from pandas>=0.23.4->singletCode) (2024.1)\n",
      "Requirement already satisfied: tzdata>=2022.1 in /home/mzo5929/.local/lib/python3.9/site-packages (from pandas>=0.23.4->singletCode) (2023.3)\n",
      "Requirement already satisfied: zipp>=3.1.0 in /home/mzo5929/.local/lib/python3.9/site-packages (from importlib-resources>=3.2.0->matplotlib>=3.0.2->singletCode) (3.17.0)\n",
      "Requirement already satisfied: six>=1.5 in /home/mzo5929/.conda/envs/commandLine/lib/python3.9/site-packages (from python-dateutil>=2.7->matplotlib>=3.0.2->singletCode) (1.16.0)\n",
      "Installing collected packages: tqdm, pyparsing, pillow, kiwisolver, importlib-resources, fonttools, cycler, contourpy, matplotlib, singletCode\n",
      "\u001b[31mERROR: pip's dependency resolver does not currently take into account all the packages that are installed. This behaviour is the source of the following dependency conflicts.\n",
      "cassiopeia 5.0.3 requires requests, which is not installed.\u001b[0m\u001b[31m\n",
      "\u001b[0mSuccessfully installed contourpy-1.2.1 cycler-0.12.1 fonttools-4.53.0 importlib-resources-6.4.0 kiwisolver-1.4.5 matplotlib-3.9.0 pillow-10.3.0 pyparsing-3.1.2 singletCode-1.1.0 tqdm-4.66.4\n"
     ]
    }
   ],
   "source": [
    "!pip3 install singletCode\n",
    "import singletCode"
   ]
  },
  {
   "cell_type": "markdown",
   "metadata": {},
   "source": [
    "Then, load the data and check if it is in a valid format"
   ]
  },
  {
   "cell_type": "code",
   "execution_count": 2,
   "metadata": {},
   "outputs": [],
   "source": [
    "import pandas as pd\n",
    "df = pd.read_csv(\"/home/mzo5929/Keerthana/subiaHanxiaoDataAnalysis/extractedData/BarcodeAnalysis2/StepThree/SA2-078/stepThreeStarcodeShavedReads.txt\", sep=\"\\t\")"
   ]
  },
  {
   "cell_type": "code",
   "execution_count": 3,
   "metadata": {},
   "outputs": [
    {
     "ename": "ValueError",
     "evalue": "The column names of the sample sheet must be cellID, barcode and sample, in that order.",
     "output_type": "error",
     "traceback": [
      "\u001b[0;31m---------------------------------------------------------------------------\u001b[0m",
      "\u001b[0;31mValueError\u001b[0m                                Traceback (most recent call last)",
      "Cell \u001b[0;32mIn[3], line 1\u001b[0m\n\u001b[0;32m----> 1\u001b[0m singletCode\u001b[39m.\u001b[39;49mcheck_sample_sheet(df)\n\u001b[1;32m      3\u001b[0m \u001b[39m#Output\u001b[39;00m\n\u001b[1;32m      4\u001b[0m \u001b[39m# {\u001b[39;00m\n\u001b[1;32m      5\u001b[0m \u001b[39m# \t\"name\": \"ValueError\",\u001b[39;00m\n\u001b[0;32m   (...)\u001b[0m\n\u001b[1;32m     20\u001b[0m \u001b[39m# ValueError: The column names of the sample sheet must be cellID, barcode and sample, in that order.\"\u001b[39;00m\n\u001b[1;32m     21\u001b[0m \u001b[39m# }\u001b[39;00m\n",
      "File \u001b[0;32m~/.conda/envs/commandLine/lib/python3.9/site-packages/singletCode/general_utility_functions.py:19\u001b[0m, in \u001b[0;36mcheck_sample_sheet\u001b[0;34m(data_frame)\u001b[0m\n\u001b[1;32m     16\u001b[0m required_columns \u001b[39m=\u001b[39m [\u001b[39m\"\u001b[39m\u001b[39mcellID\u001b[39m\u001b[39m\"\u001b[39m,\u001b[39m\"\u001b[39m\u001b[39mbarcode\u001b[39m\u001b[39m\"\u001b[39m, \u001b[39m\"\u001b[39m\u001b[39msample\u001b[39m\u001b[39m\"\u001b[39m]\n\u001b[1;32m     17\u001b[0m \u001b[39mif\u001b[39;00m column_names \u001b[39m!=\u001b[39m required_columns:\n\u001b[1;32m     18\u001b[0m     \u001b[39m#Test\u001b[39;00m\n\u001b[0;32m---> 19\u001b[0m     \u001b[39mraise\u001b[39;00m \u001b[39mValueError\u001b[39;00m(\u001b[39m\"\u001b[39m\u001b[39mThe column names of the sample sheet must be cellID, barcode and sample, in that order.\u001b[39m\u001b[39m\"\u001b[39m)\n\u001b[1;32m     20\u001b[0m \u001b[39mprint\u001b[39m(\u001b[39m\"\u001b[39m\u001b[39mThe sample sheet provided can be used as input to get_singlets to get a list of singlets identified.\u001b[39m\u001b[39m\"\u001b[39m)\n\u001b[1;32m     21\u001b[0m \u001b[39mreturn\u001b[39;00m\n",
      "\u001b[0;31mValueError\u001b[0m: The column names of the sample sheet must be cellID, barcode and sample, in that order."
     ]
    }
   ],
   "source": [
    "singletCode.check_sample_sheet(df)\n",
    "\n",
    "#Output\n",
    "# {\n",
    "# \t\"name\": \"ValueError\",\n",
    "# \t\"message\": \"The column names of the sample sheet must be cellID, barcode and sample, in that order.\",\n",
    "# \t\"stack\": \"---------------------------------------------------------------------------\n",
    "# ValueError                                Traceback (most recent call last)\n",
    "# Cell In[4], line 1\n",
    "# ----> 1 singletCode.check_sample_sheet(df)\n",
    "\n",
    "# File ~/anaconda3/envs/singletCode/lib/python3.9/site-packages/singletCode/general_utility_functions.py:11, in check_sample_sheet(data_frame)\n",
    "#       8 required_columns = [\\\"cellID\\\",\\\"barcode\\\", \\\"sample\\\"]\n",
    "#       9 if column_names != required_columns:\n",
    "#      10     #Test\n",
    "# ---> 11     raise ValueError(\\\"The column names of the sample sheet must be cellID, barcode and sample, in that order.\\\")\n",
    "#      12 print(\\\"The sample sheet provided can be used as input to get_singlets to get a list of singlets identified.\\\")\n",
    "#      13 return\n",
    "\n",
    "# ValueError: The column names of the sample sheet must be cellID, barcode and sample, in that order.\"\n",
    "# }"
   ]
  },
  {
   "cell_type": "markdown",
   "metadata": {},
   "source": [
    "Making necessary changes to the sheet if required"
   ]
  },
  {
   "cell_type": "code",
   "execution_count": 4,
   "metadata": {},
   "outputs": [
    {
     "data": {
      "text/plain": [
       "Index(['cellID', 'UMI', 'OriginalBarcode', 'BC50StarcodeD8', 'BC40StarcodeD8',\n",
       "       'BC30StarcodeD8', 'BC30StarcodeD6', 'SampleNum'],\n",
       "      dtype='object')"
      ]
     },
     "execution_count": 4,
     "metadata": {},
     "output_type": "execute_result"
    }
   ],
   "source": [
    "df.columns\n",
    "# The output: \n",
    "# Index(['cellID', 'UMI', 'OriginalBarcode', 'BC50StarcodeD8', 'BC40StarcodeD8',\n",
    "#        'BC30StarcodeD8', 'BC30StarcodeD6', 'SampleNum'],\n",
    "#       dtype='object')"
   ]
  },
  {
   "cell_type": "code",
   "execution_count": 28,
   "metadata": {},
   "outputs": [],
   "source": [
    "#removing reads information\n",
    "uniqueDf = df.drop_duplicates()\n",
    "#removing extra columns\n",
    "subsettedDf = uniqueDf[[\"cellID\", \"BC50StarcodeD8\", \"SampleNum\"]]\n",
    "#renaming columns as required by singletCode\n",
    "subsettedDf.columns = [\"cellID\", \"barcode\", \"sample\"]"
   ]
  },
  {
   "cell_type": "code",
   "execution_count": 24,
   "metadata": {},
   "outputs": [
    {
     "data": {
      "text/plain": [
       "Index(['cellID', 'barcode', 'sample'], dtype='object')"
      ]
     },
     "execution_count": 24,
     "metadata": {},
     "output_type": "execute_result"
    }
   ],
   "source": [
    "subsettedDf.columns\n",
    "#Output: Index(['cellID', 'barcode', 'sample'], dtype='object')"
   ]
  },
  {
   "cell_type": "code",
   "execution_count": 29,
   "metadata": {},
   "outputs": [
    {
     "name": "stdout",
     "output_type": "stream",
     "text": [
      "The sample sheet provided can be used as input to get_singlets to get a list of singlets identified.\n"
     ]
    }
   ],
   "source": [
    "singletCode.check_sample_sheet(subsettedDf)\n",
    "#Output:\n",
    "# The sample sheet provided can be used as input to get_singlets to get a list of singlets identified."
   ]
  },
  {
   "cell_type": "code",
   "execution_count": 30,
   "metadata": {},
   "outputs": [
    {
     "name": "stdout",
     "output_type": "stream",
     "text": [
      "INFO: Raw data counts: \n",
      "sample\n",
      "2    661891\n",
      "1    472632\n",
      "3    186302\n",
      "Name: count, dtype: int64\n",
      "Total cells for sample 1: 5575\n",
      "INFO: Using ratio based filtering.\n",
      "Current Sample Adjusted UMI cutoff: 4\n"
     ]
    },
    {
     "name": "stderr",
     "output_type": "stream",
     "text": [
      "100%|██████████| 5383/5383 [00:00<00:00, 24815.26it/s]\n"
     ]
    },
    {
     "name": "stdout",
     "output_type": "stream",
     "text": [
      "All singlets identified with multiple barcodes are unique? True\n",
      "Total Singlets: 2298\n",
      "Total Multiplets: 552\n",
      "Total cells for sample 2: 6875\n",
      "INFO: Using ratio based filtering.\n",
      "Current Sample Adjusted UMI cutoff: 5\n"
     ]
    },
    {
     "name": "stderr",
     "output_type": "stream",
     "text": [
      "100%|██████████| 5411/5411 [00:00<00:00, 24003.17it/s]\n"
     ]
    },
    {
     "name": "stdout",
     "output_type": "stream",
     "text": [
      "All singlets identified with multiple barcodes are unique? True\n",
      "Total Singlets: 2714\n",
      "Total Multiplets: 984\n",
      "Total cells for sample 3: 1728\n",
      "INFO: Using ratio based filtering.\n",
      "Current Sample Adjusted UMI cutoff: 2\n"
     ]
    },
    {
     "name": "stderr",
     "output_type": "stream",
     "text": [
      "100%|██████████| 2107/2107 [00:00<00:00, 24957.63it/s]\n"
     ]
    },
    {
     "name": "stdout",
     "output_type": "stream",
     "text": [
      "All singlets identified with multiple barcodes are unique? True\n",
      "Total Singlets: 838\n",
      "Total Multiplets: 191\n"
     ]
    }
   ],
   "source": [
    "cellLabelList, stats = singletCode.get_singlets(subsettedDf, dataset_name = \"MultipleSamples\", umi_cutoff_method = \"ratio\", save_all_singlet_categories=False, output_path=\"/home/mzo5929/Keerthana/subiaHanxiaoDataAnalysis/extractedData/singletCode\")"
   ]
  },
  {
   "cell_type": "code",
   "execution_count": 27,
   "metadata": {},
   "outputs": [
    {
     "data": {
      "text/html": [
       "<div>\n",
       "<style scoped>\n",
       "    .dataframe tbody tr th:only-of-type {\n",
       "        vertical-align: middle;\n",
       "    }\n",
       "\n",
       "    .dataframe tbody tr th {\n",
       "        vertical-align: top;\n",
       "    }\n",
       "\n",
       "    .dataframe thead th {\n",
       "        text-align: right;\n",
       "    }\n",
       "</style>\n",
       "<table border=\"1\" class=\"dataframe\">\n",
       "  <thead>\n",
       "    <tr style=\"text-align: right;\">\n",
       "      <th></th>\n",
       "      <th>single_sample_barcode_singlets</th>\n",
       "      <th>multi_barcode_singlets</th>\n",
       "      <th>dominant_umi_barcode_singlets</th>\n",
       "      <th>total_singlets</th>\n",
       "      <th>total_undetermined</th>\n",
       "      <th>low_umi_cells_removed</th>\n",
       "      <th>total_cells</th>\n",
       "      <th>dataset</th>\n",
       "      <th>sample</th>\n",
       "    </tr>\n",
       "  </thead>\n",
       "  <tbody>\n",
       "    <tr>\n",
       "      <th>0</th>\n",
       "      <td>1368</td>\n",
       "      <td>805</td>\n",
       "      <td>128</td>\n",
       "      <td>2301</td>\n",
       "      <td>549</td>\n",
       "      <td>2725</td>\n",
       "      <td>5575</td>\n",
       "      <td>MultipleSamples</td>\n",
       "      <td>1</td>\n",
       "    </tr>\n",
       "    <tr>\n",
       "      <th>1</th>\n",
       "      <td>2606</td>\n",
       "      <td>76</td>\n",
       "      <td>38</td>\n",
       "      <td>2720</td>\n",
       "      <td>978</td>\n",
       "      <td>3177</td>\n",
       "      <td>6875</td>\n",
       "      <td>MultipleSamples</td>\n",
       "      <td>2</td>\n",
       "    </tr>\n",
       "    <tr>\n",
       "      <th>2</th>\n",
       "      <td>556</td>\n",
       "      <td>137</td>\n",
       "      <td>145</td>\n",
       "      <td>838</td>\n",
       "      <td>191</td>\n",
       "      <td>699</td>\n",
       "      <td>1728</td>\n",
       "      <td>MultipleSamples</td>\n",
       "      <td>3</td>\n",
       "    </tr>\n",
       "  </tbody>\n",
       "</table>\n",
       "</div>"
      ],
      "text/plain": [
       "   single_sample_barcode_singlets  multi_barcode_singlets  \\\n",
       "0                            1368                     805   \n",
       "1                            2606                      76   \n",
       "2                             556                     137   \n",
       "\n",
       "   dominant_umi_barcode_singlets  total_singlets  total_undetermined  \\\n",
       "0                            128            2301                 549   \n",
       "1                             38            2720                 978   \n",
       "2                            145             838                 191   \n",
       "\n",
       "   low_umi_cells_removed  total_cells          dataset  sample  \n",
       "0                   2725         5575  MultipleSamples       1  \n",
       "1                   3177         6875  MultipleSamples       2  \n",
       "2                    699         1728  MultipleSamples       3  "
      ]
     },
     "execution_count": 27,
     "metadata": {},
     "output_type": "execute_result"
    }
   ],
   "source": [
    "stats"
   ]
  },
  {
   "cell_type": "code",
   "execution_count": 21,
   "metadata": {},
   "outputs": [
    {
     "data": {
      "text/html": [
       "<div>\n",
       "<style scoped>\n",
       "    .dataframe tbody tr th:only-of-type {\n",
       "        vertical-align: middle;\n",
       "    }\n",
       "\n",
       "    .dataframe tbody tr th {\n",
       "        vertical-align: top;\n",
       "    }\n",
       "\n",
       "    .dataframe thead th {\n",
       "        text-align: right;\n",
       "    }\n",
       "</style>\n",
       "<table border=\"1\" class=\"dataframe\">\n",
       "  <thead>\n",
       "    <tr style=\"text-align: right;\">\n",
       "      <th></th>\n",
       "      <th>single_sample_barcode_singlets</th>\n",
       "      <th>multi_barcode_singlets</th>\n",
       "      <th>dominant_umi_barcode_singlets</th>\n",
       "      <th>total_singlets</th>\n",
       "      <th>total_undetermined</th>\n",
       "      <th>low_umi_cells_removed</th>\n",
       "      <th>total_cells</th>\n",
       "      <th>dataset</th>\n",
       "      <th>sample</th>\n",
       "    </tr>\n",
       "  </thead>\n",
       "  <tbody>\n",
       "    <tr>\n",
       "      <th>0</th>\n",
       "      <td>405</td>\n",
       "      <td>5</td>\n",
       "      <td>0</td>\n",
       "      <td>410</td>\n",
       "      <td>17</td>\n",
       "      <td>5148</td>\n",
       "      <td>5575</td>\n",
       "      <td>MultipleSamples</td>\n",
       "      <td>1</td>\n",
       "    </tr>\n",
       "    <tr>\n",
       "      <th>1</th>\n",
       "      <td>901</td>\n",
       "      <td>6</td>\n",
       "      <td>0</td>\n",
       "      <td>907</td>\n",
       "      <td>82</td>\n",
       "      <td>5886</td>\n",
       "      <td>6875</td>\n",
       "      <td>MultipleSamples</td>\n",
       "      <td>2</td>\n",
       "    </tr>\n",
       "    <tr>\n",
       "      <th>2</th>\n",
       "      <td>72</td>\n",
       "      <td>4</td>\n",
       "      <td>0</td>\n",
       "      <td>76</td>\n",
       "      <td>3</td>\n",
       "      <td>1649</td>\n",
       "      <td>1728</td>\n",
       "      <td>MultipleSamples</td>\n",
       "      <td>3</td>\n",
       "    </tr>\n",
       "  </tbody>\n",
       "</table>\n",
       "</div>"
      ],
      "text/plain": [
       "   single_sample_barcode_singlets  multi_barcode_singlets  \\\n",
       "0                             405                       5   \n",
       "1                             901                       6   \n",
       "2                              72                       4   \n",
       "\n",
       "   dominant_umi_barcode_singlets  total_singlets  total_undetermined  \\\n",
       "0                              0             410                  17   \n",
       "1                              0             907                  82   \n",
       "2                              0              76                   3   \n",
       "\n",
       "   low_umi_cells_removed  total_cells          dataset  sample  \n",
       "0                   5148         5575  MultipleSamples       1  \n",
       "1                   5886         6875  MultipleSamples       2  \n",
       "2                   1649         1728  MultipleSamples       3  "
      ]
     },
     "execution_count": 21,
     "metadata": {},
     "output_type": "execute_result"
    }
   ],
   "source": [
    "stats"
   ]
  },
  {
   "cell_type": "code",
   "execution_count": null,
   "metadata": {},
   "outputs": [],
   "source": []
  },
  {
   "cell_type": "markdown",
   "metadata": {},
   "source": []
  }
 ],
 "metadata": {
  "kernelspec": {
   "display_name": "singletCode",
   "language": "python",
   "name": "python3"
  },
  "language_info": {
   "codemirror_mode": {
    "name": "ipython",
    "version": 3
   },
   "file_extension": ".py",
   "mimetype": "text/x-python",
   "name": "python",
   "nbconvert_exporter": "python",
   "pygments_lexer": "ipython3",
   "version": "3.9.13"
  }
 },
 "nbformat": 4,
 "nbformat_minor": 2
}
